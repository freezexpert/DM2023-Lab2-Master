{
 "cells": [
  {
   "cell_type": "markdown",
   "metadata": {},
   "source": [
    "### Student Information\n",
    "Name: 林宗翰\n",
    "\n",
    "Student ID: 109062304\n",
    "\n",
    "GitHub ID: freezexpert\n",
    "\n",
    "Kaggle name: freezexpert\n",
    "\n",
    "Kaggle private scoreboard snapshot:\n",
    "\n",
    "[Snapshot](img/pic0.png)"
   ]
  },
  {
   "cell_type": "markdown",
   "metadata": {},
   "source": [
    "---"
   ]
  },
  {
   "cell_type": "markdown",
   "metadata": {},
   "source": [
    "### Instructions"
   ]
  },
  {
   "cell_type": "markdown",
   "metadata": {},
   "source": [
    "1. First: __This part is worth 30% of your grade.__ Do the **take home** exercises in the DM2023-Lab2-master. You may need to copy some cells from the Lab notebook to this notebook. \n",
    "\n",
    "\n",
    "2. Second: __This part is worth 30% of your grade.__ Participate in the in-class [Kaggle Competition](https://www.kaggle.com/t/09b1d0f3f8584d06848252277cb535f2) regarding Emotion Recognition on Twitter by this link https://www.kaggle.com/t/09b1d0f3f8584d06848252277cb535f2. The scoring will be given according to your place in the Private Leaderboard ranking: \n",
    "    - **Bottom 40%**: Get 20% of the 30% available for this section.\n",
    "\n",
    "    - **Top 41% - 100%**: Get (60-x)/6 + 20 points, where x is your ranking in the leaderboard (ie. If you rank 3rd your score will be (60-3)/6 + 20 = 29.5% out of 30%)   \n",
    "    Submit your last submission __BEFORE the deadline (Dec. 27th 11:59 pm, Wednesday)_. Make sure to take a screenshot of your position at the end of the competition and store it as '''pic0.png''' under the **img** folder of this repository and rerun the cell **Student Information**.\n",
    "    \n",
    "\n",
    "3. Third: __This part is worth 30% of your grade.__ A report of your work developping the model for the competition (You can use code and comment it). This report should include what your preprocessing steps, the feature engineering steps and an explanation of your model. You can also mention different things you tried and insights you gained. \n",
    "\n",
    "\n",
    "4. Fourth: __This part is worth 10% of your grade.__ It's hard for us to follow if your code is messy :'(, so please **tidy up your notebook** and **add minimal comments where needed**.\n",
    "\n",
    "\n",
    "Upload your files to your repository then submit the link to it on the corresponding e-learn assignment.\n",
    "\n",
    "Make sure to commit and save your changes to your repository __BEFORE the deadline (Dec. 31th 11:59 pm, Sunday)__. "
   ]
  },
  {
   "cell_type": "code",
   "execution_count": null,
   "metadata": {},
   "outputs": [],
   "source": [
    "### Begin Assignment Here\n",
    "## separate testing dataset from training dataset\n",
    "import json\n",
    "import pandas as pd\n",
    "json_filepath = './tweets_DM.json'\n",
    "df_ident = pd.read_csv('./data_identification.csv')\n",
    "tweets_list = []\n",
    "with open(json_filepath, 'r') as file:\n",
    "    for line in file:\n",
    "        data = json.loads(line)\n",
    "        tweets_list.append({\n",
    "                'tweet_id': data['_source']['tweet']['tweet_id'],\n",
    "                'text': data['_source']['tweet']['text']\n",
    "            })\n",
    "\n",
    "df_tweets = pd.DataFrame(tweets_list)\n",
    "# print(df_tweets)\n",
    "# print(df_ident)\n",
    "df_test = df_ident[df_ident['identification'] == 'test']\n",
    "df_train = df_ident[df_ident['identification'] == 'train']\n",
    "# print(df_test)\n",
    "# print(df_train)\n",
    "df_emo = pd.read_csv('./emotion.csv')\n",
    "# print(df_emo)\n",
    "tmp = pd.merge(df_tweets, df_train, on='tweet_id', how='left')\n",
    "# print(tmp)\n",
    "df_train_with_emotion = pd.merge(tmp, df_emo, on='tweet_id', how='left')\n",
    "# print(df_train_with_emotion)\n",
    "df_train_with_emotion = df_train_with_emotion.dropna()\n",
    "print(df_train_with_emotion)\n"
   ]
  },
  {
   "cell_type": "code",
   "execution_count": null,
   "metadata": {},
   "outputs": [],
   "source": [
    "def create_sample(df, n):\n",
    "  df0 = df[df['emotion']=='anger'].sample(n=n)\n",
    "  df1 = df[df['emotion']=='anticipation'].sample(n=n)\n",
    "  df2 = df[df['emotion']=='disgust'].sample(n=n)\n",
    "  df3 = df[df['emotion']=='fear'].sample(n=n)\n",
    "  df4 = df[df['emotion']=='joy'].sample(n=n)\n",
    "  df5 = df[df['emotion']=='sadness'].sample(n=n)\n",
    "  df6 = df[df['emotion']=='surprise'].sample(n=n)\n",
    "  df7 = df[df['emotion']=='trust'].sample(n=n)\n",
    "  df_train_sample = pd.concat([df0, df1, df2, df3, df4, df5, df6, df7])\n",
    "  return df_train_sample"
   ]
  },
  {
   "cell_type": "code",
   "execution_count": null,
   "metadata": {},
   "outputs": [],
   "source": [
    "import torch\n",
    "from torch.utils.data import DataLoader, TensorDataset\n",
    "from transformers import BertTokenizer, BertForSequenceClassification, get_linear_schedule_with_warmup\n",
    "from sklearn.model_selection import train_test_split\n",
    "from sklearn.metrics import classification_report\n",
    "from sklearn.preprocessing import LabelEncoder\n",
    "from sklearn.metrics import accuracy_score\n",
    "from tqdm import tqdm"
   ]
  },
  {
   "cell_type": "code",
   "execution_count": null,
   "metadata": {},
   "outputs": [],
   "source": [
    "label_encoder = LabelEncoder()\n",
    "df_train_with_emotion['label'] = label_encoder.fit_transform(df_train_with_emotion['emotion'])\n",
    "df_train_sample = create_sample(df_train_with_emotion, 30000)\n",
    "num_classes = len(label_encoder.classes_)\n",
    "print(num_classes)\n",
    "# print(df_train_label)\n",
    "X_train, X_val, y_train, y_val = train_test_split(df_train_sample, df_train_sample['label'], test_size=0.2, random_state=42)\n",
    "# print(X_train, X_val, y_train, y_val)\n",
    "tokenizer = BertTokenizer.from_pretrained('bert-base-uncased')\n",
    "# print(X_train_sample['text'].values)\n",
    "train_encodings = tokenizer.batch_encode_plus(X_train['text'].values, add_special_tokens=True, padding='max_length', max_length=256, return_tensors='pt')\n",
    "val_encodings = tokenizer.batch_encode_plus(X_val['text'].values, add_special_tokens=True, padding='max_length', max_length=256, return_tensors='pt')\n"
   ]
  },
  {
   "cell_type": "code",
   "execution_count": null,
   "metadata": {},
   "outputs": [],
   "source": [
    "train_input_ids = train_encodings['input_ids']\n",
    "train_attention_mask = train_encodings['attention_mask']\n",
    "train_labels = torch.tensor(X_train['label'].values)\n",
    "val_input_ids = val_encodings['input_ids']\n",
    "val_attention_mask = val_encodings['attention_mask']\n",
    "val_labels = torch.tensor(X_val['label'].values)\n",
    "# print(y_train)\n",
    "train_dataset = TensorDataset(train_input_ids, train_attention_mask, train_labels)\n",
    "val_dataset = TensorDataset(val_input_ids, val_attention_mask, val_labels)"
   ]
  },
  {
   "cell_type": "code",
   "execution_count": null,
   "metadata": {},
   "outputs": [],
   "source": [
    "torch.cuda.empty_cache()\n",
    "train_loader = DataLoader(train_dataset, batch_size=16, shuffle=True)\n",
    "val_loader = DataLoader(val_dataset, batch_size=16, shuffle=False)\n",
    "epoch = 3\n",
    "device = torch.device('cuda' if torch.cuda.is_available() else 'cpu')\n",
    "print(device)\n",
    "model = BertForSequenceClassification.from_pretrained('bert-base-uncased', num_labels=num_classes)\n",
    "model.to(device)\n",
    "optimizer = torch.optim.AdamW(model.parameters(), lr=1e-5)\n",
    "scheduler = get_linear_schedule_with_warmup(optimizer, num_warmup_steps=0, num_training_steps=len(train_loader)*epoch)"
   ]
  },
  {
   "cell_type": "code",
   "execution_count": null,
   "metadata": {},
   "outputs": [],
   "source": [
    "for i in range(epoch):\n",
    "    model.train()\n",
    "    total_loss = 0\n",
    "    with tqdm(total=len(train_loader), desc=f\"Epoch {i + 1}/{epoch}\") as pbar:\n",
    "        for batch in train_loader:\n",
    "            optimizer.zero_grad()\n",
    "            input_ids = batch[0].to(device)\n",
    "            attention_mask = batch[1].to(device)\n",
    "            labels = torch.tensor(batch[2], dtype=torch.long).to(device)\n",
    "            outputs = model(input_ids, attention_mask=attention_mask, labels=labels)\n",
    "            loss = outputs.loss\n",
    "            total_loss += loss\n",
    "            loss.backward()\n",
    "            optimizer.step()\n",
    "            pbar.update(1)\n",
    "            pbar.set_postfix(loss=f'{loss.item():.4f}')\n",
    "    scheduler.step()\n",
    "torch.cuda.empty_cache()"
   ]
  },
  {
   "cell_type": "code",
   "execution_count": null,
   "metadata": {},
   "outputs": [],
   "source": [
    "model.eval()\n",
    "predictions = []\n",
    "true_labels = []\n",
    "with tqdm(total=len(val_loader)) as pbar:\n",
    "    for batch in val_loader:\n",
    "        optimizer.zero_grad()\n",
    "        input_ids = batch[0].to(device)\n",
    "        attention_mask = batch[1].to(device)\n",
    "        labels = torch.tensor(batch[2], dtype=torch.long).to(device)\n",
    "        outputs = model(input_ids, attention_mask=attention_mask)\n",
    "        logits = outputs.logits\n",
    "        predictions.extend(torch.argmax(logits, dim=1).cpu().numpy())\n",
    "        true_labels.extend(labels.cpu().numpy())\n",
    "        pbar.update(1)\n",
    "print(accuracy_score(true_labels, predictions))\n",
    "print(classification_report(true_labels, predictions))"
   ]
  },
  {
   "cell_type": "code",
   "execution_count": null,
   "metadata": {},
   "outputs": [],
   "source": [
    "print(predictions)\n",
    "print(true_labels)"
   ]
  },
  {
   "cell_type": "code",
   "execution_count": null,
   "metadata": {},
   "outputs": [],
   "source": [
    "df_test_label = pd.merge(df_tweets, df_test, on='tweet_id', how='left')\n",
    "df_test_label = df_test_label.dropna()"
   ]
  },
  {
   "cell_type": "code",
   "execution_count": null,
   "metadata": {},
   "outputs": [],
   "source": [
    "\n",
    "test_encodings = tokenizer(list(df_test_label['text']), truncation=True, padding=True, max_length=128, return_tensors='pt')\n",
    "test_input_ids = test_encodings['input_ids']\n",
    "test_attention_mask = test_encodings['attention_mask']\n",
    "test_dataset = TensorDataset(test_input_ids, test_attention_mask)\n"
   ]
  },
  {
   "cell_type": "code",
   "execution_count": null,
   "metadata": {},
   "outputs": [],
   "source": [
    "test_loader = DataLoader(test_dataset, batch_size=16, shuffle=False)\n",
    "predicted_emotion = []\n",
    "model.eval()\n",
    "with torch.no_grad():\n",
    "    with tqdm(total=len(test_loader)) as pbar:\n",
    "        for batch in test_loader:\n",
    "            input_ids = batch[0].to(device)\n",
    "            attention_mask = batch[1].to(device)\n",
    "            outputs = model(input_ids, attention_mask=attention_mask)\n",
    "            logits = outputs.logits\n",
    "            predicted_emotion.extend(torch.argmax(logits, dim=1).cpu().numpy())\n",
    "            pbar.update(1)\n",
    "# print(predicted_emotion)"
   ]
  },
  {
   "cell_type": "code",
   "execution_count": null,
   "metadata": {},
   "outputs": [],
   "source": [
    "print(label_encoder.inverse_transform(predicted_emotion))\n",
    "df_test_label['emotion'] = label_encoder.inverse_transform(predicted_emotion)\n",
    "submission = pd.concat([df_test_label['tweet_id'], df_test_label['emotion']], axis = 1)\n",
    "submission.columns = ['id', 'emotion']\n",
    "submission.to_csv('submission.csv', index=False)"
   ]
  }
 ],
 "metadata": {
  "kernelspec": {
   "display_name": "Python 3 (ipykernel)",
   "language": "python",
   "name": "python3"
  },
  "language_info": {
   "codemirror_mode": {
    "name": "ipython",
    "version": 3
   },
   "file_extension": ".py",
   "mimetype": "text/x-python",
   "name": "python",
   "nbconvert_exporter": "python",
   "pygments_lexer": "ipython3",
   "version": "3.11.5"
  },
  "varInspector": {
   "cols": {
    "lenName": 16,
    "lenType": 16,
    "lenVar": 40
   },
   "kernels_config": {
    "python": {
     "delete_cmd_postfix": "",
     "delete_cmd_prefix": "del ",
     "library": "var_list.py",
     "varRefreshCmd": "print(var_dic_list())"
    },
    "r": {
     "delete_cmd_postfix": ") ",
     "delete_cmd_prefix": "rm(",
     "library": "var_list.r",
     "varRefreshCmd": "cat(var_dic_list()) "
    }
   },
   "types_to_exclude": [
    "module",
    "function",
    "builtin_function_or_method",
    "instance",
    "_Feature"
   ],
   "window_display": false
  }
 },
 "nbformat": 4,
 "nbformat_minor": 2
}
